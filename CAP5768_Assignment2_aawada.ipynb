{
  "nbformat": 4,
  "nbformat_minor": 0,
  "metadata": {
    "colab": {
      "name": "CAP5768_Assignment2_aawada.ipynb",
      "provenance": [],
      "collapsed_sections": [],
      "include_colab_link": true
    },
    "kernelspec": {
      "display_name": "Python [default]",
      "language": "python",
      "name": "python3"
    },
    "language_info": {
      "codemirror_mode": {
        "name": "ipython",
        "version": 3
      },
      "file_extension": ".py",
      "mimetype": "text/x-python",
      "name": "python",
      "nbconvert_exporter": "python",
      "pygments_lexer": "ipython3",
      "version": "3.6.8"
    }
  },
  "cells": [
    {
      "cell_type": "markdown",
      "metadata": {
        "id": "view-in-github",
        "colab_type": "text"
      },
      "source": [
        "<a href=\"https://colab.research.google.com/github/aawada/PHP-unit-converter/blob/master/CAP5768_Assignment2_aawada.ipynb\" target=\"_parent\"><img src=\"https://colab.research.google.com/assets/colab-badge.svg\" alt=\"Open In Colab\"/></a>"
      ]
    },
    {
      "cell_type": "markdown",
      "metadata": {
        "colab_type": "text",
        "id": "p78j872pOKTZ"
      },
      "source": [
        "# CAP 5768 - Data Science - Dr. Marques - Fall 2019"
      ]
    },
    {
      "cell_type": "markdown",
      "metadata": {
        "colab_type": "text",
        "id": "NYmNMHGLOKTa"
      },
      "source": [
        "## Assignment 2: Exploratory data analysis"
      ]
    },
    {
      "cell_type": "markdown",
      "metadata": {
        "colab_type": "text",
        "id": "9UMnsRndOKTb"
      },
      "source": [
        "### Goals \n",
        "\n",
        "- To increase familiarity with the Python \"data science stack\" (NumPy, Pandas, Matplotlib).\n",
        "- To explore (manipulate, summarize, and visualize) datasets. \n",
        "- To improve the ability to write Python code to answer questions and test hypotheses based on the contents of those datasets."
      ]
    },
    {
      "cell_type": "markdown",
      "metadata": {
        "id": "uaHCZdT0jMNk",
        "colab_type": "text"
      },
      "source": [
        ""
      ]
    },
    {
      "cell_type": "markdown",
      "metadata": {
        "id": "MU1Kmp5VjMbW",
        "colab_type": "text"
      },
      "source": [
        ""
      ]
    },
    {
      "cell_type": "markdown",
      "metadata": {
        "colab_type": "text",
        "id": "B0rEAT7MOKTb"
      },
      "source": [
        "### Instructions\n",
        "\n",
        "- This assignment is structured in three parts, using a different dataset for each part.\n",
        "- For each part, there will be some Python code to be written and questions to be answered.\n",
        "- At the end, you should export your notebook to PDF format; it will \"automagically\" become your report.\n",
        "- Submit the report (PDF), notebook (.ipynb file), and (optionally) link to the \"live\" version of your solution on Google Colaboratory via Canvas.\n",
        "- The total number of points is 154 (plus up to 85 bonus points), distributed as follows: Part 1 (58+ pts), Part 2 (28+ pts), Part 3 (43+ pts), and Conclusions (25 pts)."
      ]
    },
    {
      "cell_type": "markdown",
      "metadata": {
        "colab_type": "text",
        "id": "qiufouQn6OD9"
      },
      "source": [
        "### Important\n",
        "\n",
        "- It is OK to attempt the bonus points, but please **do not overdo it!** \n",
        "- Remember: this is an exercise in performing exploratory data analysis; expanding (and practicing) your knowledge of Python, Jupyter notebooks, Numpy, Pandas, and Matplotlib; and writing code to test hypotheses and  answer questions based on the available data (and associated summary statistics).\n",
        "- This is not (yet) the time to do sophisticated statistical analysis, train ML models, etc. \n",
        "- You must **organize your data files in the proper folders** for the code to work."
      ]
    },
    {
      "cell_type": "markdown",
      "metadata": {
        "colab_type": "text",
        "id": "fiXV2xUI7lUZ"
      },
      "source": [
        "-------------------\n",
        "## Part 1: The MovieLens 1M dataset\n",
        "\n",
        "This is a dataset of movie ratings data collected from users of MovieLens in the late 1990s and early 2000s. The data provide movie ratings, movie metadata, and demographic data about the users. Such data is often of interest in the development of recommendation systems based on machine learning algorithms. \n",
        "\n",
        "The MovieLens 1M dataset contains ~1 million ratings collected from ~6,000 users on ~4,000 movies. It's spread across three tables: _ratings_, _user information_, and _movie information_. After extracting the data from the ZIP file (available on Canvas), we can load each table into a pandas DataFrame object using the Python code below.\n",
        "\n",
        "See:\n",
        "https://grouplens.org/datasets/movielens/ for additional information."
      ]
    },
    {
      "cell_type": "code",
      "metadata": {
        "id": "eYfSVGuUsFfN",
        "colab_type": "code",
        "colab": {}
      },
      "source": [
        "# Imports\n",
        "import numpy as np\n",
        "import pandas as pd\n",
        "from pandas import DataFrame, Series\n",
        "\n",
        "%matplotlib inline\n",
        "import matplotlib.pyplot as plt\n",
        "import seaborn as sns\n",
        "\n",
        "from scipy.stats import pearsonr"
      ],
      "execution_count": 0,
      "outputs": []
    },
    {
      "cell_type": "markdown",
      "metadata": {
        "id": "ogtNFPxesFfS",
        "colab_type": "text"
      },
      "source": [
        "Before running the cell below, make sure that you have downloaded the movielens.zip file from Canvas, unzipped it, and placed its contents under the 'data' folder. \n",
        "\n",
        "![movielens_path.png](attachment:movielens_path.png)"
      ]
    },
    {
      "cell_type": "code",
      "metadata": {
        "colab_type": "code",
        "id": "4dkSabDG5gjc",
        "outputId": "b1428614-1fea-40f6-a7ea-e44baae9abf1",
        "colab": {
          "base_uri": "https://localhost:8080/",
          "height": 272
        }
      },
      "source": [
        "import pandas as pd\n",
        "\n",
        "from google.colab import drive \n",
        "drive.mount('/content/gdrive')\n",
        "\n",
        "# Make display smaller\n",
        "pd.options.display.max_rows = 10\n",
        "\n",
        "unames = ['user_id', 'gender', 'age', 'occupation', 'zip']\n",
        "users = pd.read_csv('/content/gdrive/My Drive/Colab Notebooks/assignment2/data/movielens/users.dat', sep='::',\n",
        "                      header=None, names=unames, engine='python')\n",
        "\n",
        "rnames = ['user_id', 'movie_id', 'rating', 'timestamp']\n",
        "ratings = pd.read_csv('/content/gdrive/My Drive/Colab Notebooks/assignment2/data/movielens/ratings.dat', sep='::',\n",
        "                        header=None, names=rnames, engine='python')\n",
        "\n",
        "mnames = ['movie_id', 'title', 'genres']\n",
        "movies = pd.read_csv('/content/gdrive/My Drive/Colab Notebooks/assignment2/data/movielens/movies.dat', sep='::',\n",
        "                       header=None, names=mnames, engine='python')\n",
        "\n",
        "print(ratings)"
      ],
      "execution_count": 20,
      "outputs": [
        {
          "output_type": "stream",
          "text": [
            "Drive already mounted at /content/gdrive; to attempt to forcibly remount, call drive.mount(\"/content/gdrive\", force_remount=True).\n",
            "         user_id  movie_id  rating  timestamp\n",
            "0              1      1193       5  978300760\n",
            "1              1       661       3  978302109\n",
            "2              1       914       3  978301968\n",
            "3              1      3408       4  978300275\n",
            "4              1      2355       5  978824291\n",
            "...          ...       ...     ...        ...\n",
            "1000204     6040      1091       1  956716541\n",
            "1000205     6040      1094       5  956704887\n",
            "1000206     6040       562       5  956704746\n",
            "1000207     6040      1096       4  956715648\n",
            "1000208     6040      1097       4  956715569\n",
            "\n",
            "[1000209 rows x 4 columns]\n"
          ],
          "name": "stdout"
        }
      ]
    },
    {
      "cell_type": "markdown",
      "metadata": {
        "colab_type": "text",
        "id": "QtjTzR09-PyS"
      },
      "source": [
        "# Your turn! (24 points, i.e., 6 pts each)\n",
        "\n",
        "Write Python code to answer the following questions (make sure the messages displayed by your code are complete and descriptive enough):\n",
        "1. How many users are stored in the _users_ table and what information is stored for each user?\n",
        "2. How many movies are stored in the _movies_ table and what information is stored for each movie?\n",
        "3. How many ratings are stored in the _ratings_ table and what information is stored for each rating?\n",
        "4. How are users, the movies each user has rated, and the rating related?\n",
        "\n",
        "*Note*: ages and occupations are coded as integers indicating _groups_ described in the dataset’s README file."
      ]
    },
    {
      "cell_type": "code",
      "metadata": {
        "id": "O2F4jL0gsFfa",
        "colab_type": "code",
        "outputId": "d1de6d26-694d-4f18-ac61-d2edd859be73",
        "colab": {
          "base_uri": "https://localhost:8080/",
          "height": 34
        }
      },
      "source": [
        "!cat 'data/movielens/README'"
      ],
      "execution_count": 21,
      "outputs": [
        {
          "output_type": "stream",
          "text": [
            "cat: data/movielens/README: No such file or directory\n"
          ],
          "name": "stdout"
        }
      ]
    },
    {
      "cell_type": "markdown",
      "metadata": {
        "colab_type": "text",
        "id": "BTExQawjAIuU"
      },
      "source": [
        "## Solution"
      ]
    },
    {
      "cell_type": "markdown",
      "metadata": {
        "colab_type": "text",
        "id": "YxJNmDgn-PyW"
      },
      "source": [
        "(ENTER YOUR ANSWERS HERE)"
      ]
    },
    {
      "cell_type": "code",
      "metadata": {
        "colab_type": "code",
        "id": "d4jcQfb2AIub",
        "outputId": "0523cc64-1227-4f25-f1f4-cc2e4bb032e5",
        "colab": {
          "base_uri": "https://localhost:8080/",
          "height": 510
        }
      },
      "source": [
        "# 1. How many users are stored in the users table and what information is stored for each user?\n",
        "numOfRows = len(users['user_id'].index)\n",
        "print(\"1. Number of users stored in the users table:\")\n",
        "print(numOfRows)\n",
        "\n",
        "print(\"Information stored for each user:\")\n",
        "for x in unames:\n",
        "  print(x)\n",
        "\n",
        "# 2. How many movies are stored in the movies table and what information is stored for each movie?\n",
        "numOfRows = len(movies['movie_id'].index)\n",
        "print(\"\\n2. Number of movies stored in the movies table:\")\n",
        "print(numOfRows)\n",
        "\n",
        "print(\"Information stored for each movie:\")\n",
        "for x in mnames:\n",
        "  print(x)\n",
        "\n",
        "# 3. How many ratings are stored in the ratings table and what information is stored for each rating?\n",
        "numOfRows = len(ratings['movie_id'].index)\n",
        "print(\"\\n3. Number of ratings stored in the ratings table:\")\n",
        "print(numOfRows)\n",
        "\n",
        "print(\"Information stored for each rating:\")\n",
        "for x in rnames:\n",
        "  print(x)\n",
        "\n",
        "# 4. How are users, the movies each user has rated, and the rating related?\n",
        "print(\"\\n4. Users and movies are given an id. The ratings table connects the users and movies ids with a rating.\")\n",
        "print(\"Users Column:\", unames[0])\n",
        "print(\"Movies Column:\", mnames[0])\n",
        "print(\"Ratings Column 1:\", rnames[0])\n",
        "print(\"Ratings Column 2:\", rnames[1])"
      ],
      "execution_count": 22,
      "outputs": [
        {
          "output_type": "stream",
          "text": [
            "1. Number of users stored in the users table:\n",
            "6040\n",
            "Information stored for each user:\n",
            "user_id\n",
            "gender\n",
            "age\n",
            "occupation\n",
            "zip\n",
            "\n",
            "2. Number of movies stored in the movies table:\n",
            "3883\n",
            "Information stored for each movie:\n",
            "movie_id\n",
            "title\n",
            "genres\n",
            "\n",
            "3. Number of ratings stored in the ratings table:\n",
            "1000209\n",
            "Information stored for each rating:\n",
            "user_id\n",
            "movie_id\n",
            "rating\n",
            "timestamp\n",
            "\n",
            "4. Users and movies are given an id. The ratings table connects the users and movies ids with a rating.\n",
            "Users Column: user_id\n",
            "Movies Column: movie_id\n",
            "Ratings Column 1: user_id\n",
            "Ratings Column 2: movie_id\n"
          ],
          "name": "stdout"
        }
      ]
    },
    {
      "cell_type": "markdown",
      "metadata": {
        "colab_type": "text",
        "id": "61HSWq_osFfm"
      },
      "source": [
        "# Your turn! (24 points, i.e., 6 pts each)\n",
        "\n",
        "Write Python code to answer the following questions (make sure the messages displayed by your code are complete and descriptive enough):\n",
        "5. What is the occupation that maps to most of the users? Plot a histogram of the occupation counts and report the size of the largest bin.\n",
        "6. What percentage of users are 50 years old or older? Plot a pie chart showing all percentages (per age group) and report the requested value.\n",
        "7. Which movie received the highest number of ratings (and how were such ratings distributed)?\n",
        "8. What is the average rating for all movies/users?"
      ]
    },
    {
      "cell_type": "markdown",
      "metadata": {
        "colab_type": "text",
        "id": "4_ld1lmcsFfn"
      },
      "source": [
        "## Solution"
      ]
    },
    {
      "cell_type": "markdown",
      "metadata": {
        "colab_type": "text",
        "id": "y61FUfZ1sFfo"
      },
      "source": [
        "(ENTER YOUR ANSWERS HERE)"
      ]
    },
    {
      "cell_type": "code",
      "metadata": {
        "colab_type": "code",
        "id": "ntu1pkcWsFfp",
        "outputId": "e8ccc132-a0de-4094-e6b4-7bbb67c7748b",
        "colab": {
          "base_uri": "https://localhost:8080/",
          "height": 346
        }
      },
      "source": [
        "#5. What is the occupation that maps to most of the users? Plot a histogram of the occupation counts and report the size of the largest bin.\n",
        "\n",
        "df = pd.DataFrame(users)\n",
        "\n",
        "numOfPeople = len(users['occupation'].index)\n",
        "numOf0s = 0\n",
        "numOf1s = 0\n",
        "numOf2s = 0\n",
        "numOf3s = 0\n",
        "numOf4s = 0\n",
        "numOf5s = 0\n",
        "numOf6s = 0\n",
        "numOf7s = 0\n",
        "numOf8s = 0\n",
        "numOf9s = 0\n",
        "numOf10s = 0\n",
        "numOf11s = 0\n",
        "numOf12s = 0\n",
        "numOf13s = 0\n",
        "numOf14s = 0\n",
        "numOf15s = 0\n",
        "numOf16s = 0\n",
        "numOf17s = 0\n",
        "numOf18s = 0\n",
        "numOf19s = 0\n",
        "numOf20s = 0\n",
        "\n",
        "i = 0\n",
        "while i < numOfPeople:\n",
        "    if df['occupation'][i] == 0:\n",
        "        numOf0s += 1\n",
        "    if df['occupation'][i] == 1:\n",
        "        numOf1s += 1\n",
        "    if df['occupation'][i] == 2:\n",
        "        numOf2s += 1\n",
        "    if df['occupation'][i] == 3:\n",
        "        numOf3s += 1\n",
        "    if df['occupation'][i] == 4:\n",
        "        numOf4s += 1\n",
        "    if df['occupation'][i] == 5:\n",
        "        numOf5s += 1\n",
        "    if df['occupation'][i] == 6:\n",
        "        numOf6s += 1\n",
        "    if df['occupation'][i] == 7:\n",
        "        numOf7s += 1\n",
        "    if df['occupation'][i] == 8:\n",
        "        numOf8s += 1\n",
        "    if df['occupation'][i] == 9:\n",
        "        numOf9s += 1\n",
        "    if df['occupation'][i] == 10:\n",
        "        numOf10s += 1\n",
        "    if df['occupation'][i] == 11:\n",
        "        numOf11s += 1\n",
        "    if df['occupation'][i] == 12:\n",
        "        numOf12s += 1\n",
        "    if df['occupation'][i] == 13:\n",
        "        numOf13s += 1\n",
        "    if df['occupation'][i] == 14:\n",
        "        numOf14s += 1\n",
        "    if df['occupation'][i] == 15:\n",
        "        numOf15s += 1\n",
        "    if df['occupation'][i] == 16:\n",
        "        numOf16s += 1\n",
        "    if df['occupation'][i] == 17:\n",
        "        numOf17s += 1\n",
        "    if df['occupation'][i] == 18:\n",
        "        numOf18s += 1\n",
        "    if df['occupation'][i] == 19:\n",
        "        numOf19s += 1\n",
        "    if df['occupation'][i] == 20:\n",
        "        numOf20s += 1\n",
        "    i += 1\n",
        "\n",
        "if numOf0s > numOf1s and numOf0s > numOf2s and numOf0s > numOf3s and numOf0s > numOf4s and numOf0s > numOf5s and numOf0s > numOf6s and numOf0s > numOf7s and numOf0s > numOf8s and numOf0s > numOf9s and numOf0s > numOf10s and numOf0s > numOf11s and numOf0s > numOf12s and numOf0s > numOf14s and numOf0s > numOf15s and numOf0s > numOf16s and numOf0s > numOf17s and numOf0s > numOf18s and numOf0s > numOf19s and numOf0s > numOf20s:\n",
        "  print(\"Other or not specified is the most common occupation\")\n",
        "\n",
        "if numOf4s > numOf1s and numOf4s > numOf2s and numOf4s > numOf3s and numOf4s > numOf0s and numOf4s > numOf5s and numOf4s > numOf6s and numOf4s > numOf7s and numOf4s > numOf8s and numOf4s > numOf9s and numOf4s > numOf10s and numOf4s > numOf11s and numOf4s > numOf12s and numOf4s > numOf14s and numOf4s > numOf15s and numOf4s > numOf16s and numOf4s > numOf17s and numOf4s > numOf18s and numOf4s > numOf19s and numOf4s > numOf20s:\n",
        "  print(\"5. College/grad student is the most common occupation\")\n",
        "\n",
        "occupations = np.array(users['occupation'])\n",
        "plt.hist(occupations, bins=[0, 1, 2, 3, 4, 5, 6, 7, 8, 9, 10, 11, 12, 13, 14, 15, 16, 17, 18, 19, 20, 21])\n",
        "plt.title('Users Occupations')\n",
        "plt.xlabel('Type of Occupation')\n",
        "plt.ylabel('Number of People');\n",
        "\n",
        "#6. What percentage of users are 50 years old or older? Plot a pie chart showing all percentages (per age group) and report the requested value.\n",
        "\n",
        "#age = np.array(users['age'])\n",
        "numOf50OrOlder = 0\n",
        "i = 0\n",
        "while i < numOfPeople:\n",
        "    if df['age'][i] >= 50:\n",
        "        numOf50OrOlder += 1\n",
        "    i += 1\n",
        "print(\"6. Percentage of users 50 years old or older: {0:.0%}\".format(numOf50OrOlder / numOfPeople))\n",
        "#plt.pie(age)\n",
        "\n",
        "#7. Which movie received the highest number of ratings (and how were such ratings distributed)?\n",
        "\n",
        "\n",
        "#8. What is the average rating for all movies/users?\n",
        "\n",
        "df = pd.DataFrame(ratings)\n",
        "totalRating = 0\n",
        "i = 0\n",
        "while i < numOfPeople:\n",
        "    totalRating += df['rating'][i]\n",
        "    i += 1\n",
        "print(\"8. Average Rating for all movies/users: \", totalRating / numOfPeople)\n"
      ],
      "execution_count": 23,
      "outputs": [
        {
          "output_type": "stream",
          "text": [
            "5. College/grad student is the most common occupation\n",
            "6. Percentage of users 50 years old or older: 15%\n",
            "8. Average Rating for all movies/users:  3.6206953642384105\n"
          ],
          "name": "stdout"
        },
        {
          "output_type": "display_data",
          "data": {
            "image/png": "[encoded data removed]",
            "text/plain": [
              "<Figure size 432x288 with 1 Axes>"
            ]
          },
          "metadata": {
            "tags": []
          }
        }
      ]
    },
    {
      "cell_type": "markdown",
      "metadata": {
        "id": "fOVxgl1ysFfs",
        "colab_type": "text"
      },
      "source": [
        "-------------------\n",
        "We will use the Python code below to merge all three tables into a unified data frame."
      ]
    },
    {
      "cell_type": "code",
      "metadata": {
        "id": "Axgu5AKIsFft",
        "colab_type": "code",
        "outputId": "62bc51ea-a0ac-47db-8e72-65ce628b4e92",
        "colab": {
          "base_uri": "https://localhost:8080/",
          "height": 419
        }
      },
      "source": [
        "data = pd.merge(pd.merge(ratings, users), movies)\n",
        "data"
      ],
      "execution_count": 24,
      "outputs": [
        {
          "output_type": "execute_result",
          "data": {
            "text/html": [
              "<div>\n",
              "<style scoped>\n",
              "    .dataframe tbody tr th:only-of-type {\n",
              "        vertical-align: middle;\n",
              "    }\n",
              "\n",
              "    .dataframe tbody tr th {\n",
              "        vertical-align: top;\n",
              "    }\n",
              "\n",
              "    .dataframe thead th {\n",
              "        text-align: right;\n",
              "    }\n",
              "</style>\n",
              "<table border=\"1\" class=\"dataframe\">\n",
              "  <thead>\n",
              "    <tr style=\"text-align: right;\">\n",
              "      <th></th>\n",
              "      <th>user_id</th>\n",
              "      <th>movie_id</th>\n",
              "      <th>rating</th>\n",
              "      <th>timestamp</th>\n",
              "      <th>gender</th>\n",
              "      <th>age</th>\n",
              "      <th>occupation</th>\n",
              "      <th>zip</th>\n",
              "      <th>title</th>\n",
              "      <th>genres</th>\n",
              "    </tr>\n",
              "  </thead>\n",
              "  <tbody>\n",
              "    <tr>\n",
              "      <th>0</th>\n",
              "      <td>1</td>\n",
              "      <td>1193</td>\n",
              "      <td>5</td>\n",
              "      <td>978300760</td>\n",
              "      <td>F</td>\n",
              "      <td>1</td>\n",
              "      <td>10</td>\n",
              "      <td>48067</td>\n",
              "      <td>One Flew Over the Cuckoo's Nest (1975)</td>\n",
              "      <td>Drama</td>\n",
              "    </tr>\n",
              "    <tr>\n",
              "      <th>1</th>\n",
              "      <td>2</td>\n",
              "      <td>1193</td>\n",
              "      <td>5</td>\n",
              "      <td>978298413</td>\n",
              "      <td>M</td>\n",
              "      <td>56</td>\n",
              "      <td>16</td>\n",
              "      <td>70072</td>\n",
              "      <td>One Flew Over the Cuckoo's Nest (1975)</td>\n",
              "      <td>Drama</td>\n",
              "    </tr>\n",
              "    <tr>\n",
              "      <th>2</th>\n",
              "      <td>12</td>\n",
              "      <td>1193</td>\n",
              "      <td>4</td>\n",
              "      <td>978220179</td>\n",
              "      <td>M</td>\n",
              "      <td>25</td>\n",
              "      <td>12</td>\n",
              "      <td>32793</td>\n",
              "      <td>One Flew Over the Cuckoo's Nest (1975)</td>\n",
              "      <td>Drama</td>\n",
              "    </tr>\n",
              "    <tr>\n",
              "      <th>3</th>\n",
              "      <td>15</td>\n",
              "      <td>1193</td>\n",
              "      <td>4</td>\n",
              "      <td>978199279</td>\n",
              "      <td>M</td>\n",
              "      <td>25</td>\n",
              "      <td>7</td>\n",
              "      <td>22903</td>\n",
              "      <td>One Flew Over the Cuckoo's Nest (1975)</td>\n",
              "      <td>Drama</td>\n",
              "    </tr>\n",
              "    <tr>\n",
              "      <th>4</th>\n",
              "      <td>17</td>\n",
              "      <td>1193</td>\n",
              "      <td>5</td>\n",
              "      <td>978158471</td>\n",
              "      <td>M</td>\n",
              "      <td>50</td>\n",
              "      <td>1</td>\n",
              "      <td>95350</td>\n",
              "      <td>One Flew Over the Cuckoo's Nest (1975)</td>\n",
              "      <td>Drama</td>\n",
              "    </tr>\n",
              "    <tr>\n",
              "      <th>...</th>\n",
              "      <td>...</td>\n",
              "      <td>...</td>\n",
              "      <td>...</td>\n",
              "      <td>...</td>\n",
              "      <td>...</td>\n",
              "      <td>...</td>\n",
              "      <td>...</td>\n",
              "      <td>...</td>\n",
              "      <td>...</td>\n",
              "      <td>...</td>\n",
              "    </tr>\n",
              "    <tr>\n",
              "      <th>1000204</th>\n",
              "      <td>5949</td>\n",
              "      <td>2198</td>\n",
              "      <td>5</td>\n",
              "      <td>958846401</td>\n",
              "      <td>M</td>\n",
              "      <td>18</td>\n",
              "      <td>17</td>\n",
              "      <td>47901</td>\n",
              "      <td>Modulations (1998)</td>\n",
              "      <td>Documentary</td>\n",
              "    </tr>\n",
              "    <tr>\n",
              "      <th>1000205</th>\n",
              "      <td>5675</td>\n",
              "      <td>2703</td>\n",
              "      <td>3</td>\n",
              "      <td>976029116</td>\n",
              "      <td>M</td>\n",
              "      <td>35</td>\n",
              "      <td>14</td>\n",
              "      <td>30030</td>\n",
              "      <td>Broken Vessels (1998)</td>\n",
              "      <td>Drama</td>\n",
              "    </tr>\n",
              "    <tr>\n",
              "      <th>1000206</th>\n",
              "      <td>5780</td>\n",
              "      <td>2845</td>\n",
              "      <td>1</td>\n",
              "      <td>958153068</td>\n",
              "      <td>M</td>\n",
              "      <td>18</td>\n",
              "      <td>17</td>\n",
              "      <td>92886</td>\n",
              "      <td>White Boys (1999)</td>\n",
              "      <td>Drama</td>\n",
              "    </tr>\n",
              "    <tr>\n",
              "      <th>1000207</th>\n",
              "      <td>5851</td>\n",
              "      <td>3607</td>\n",
              "      <td>5</td>\n",
              "      <td>957756608</td>\n",
              "      <td>F</td>\n",
              "      <td>18</td>\n",
              "      <td>20</td>\n",
              "      <td>55410</td>\n",
              "      <td>One Little Indian (1973)</td>\n",
              "      <td>Comedy|Drama|Western</td>\n",
              "    </tr>\n",
              "    <tr>\n",
              "      <th>1000208</th>\n",
              "      <td>5938</td>\n",
              "      <td>2909</td>\n",
              "      <td>4</td>\n",
              "      <td>957273353</td>\n",
              "      <td>M</td>\n",
              "      <td>25</td>\n",
              "      <td>1</td>\n",
              "      <td>35401</td>\n",
              "      <td>Five Wives, Three Secretaries and Me (1998)</td>\n",
              "      <td>Documentary</td>\n",
              "    </tr>\n",
              "  </tbody>\n",
              "</table>\n",
              "<p>1000209 rows × 10 columns</p>\n",
              "</div>"
            ],
            "text/plain": [
              "         user_id  ...                genres\n",
              "0              1  ...                 Drama\n",
              "1              2  ...                 Drama\n",
              "2             12  ...                 Drama\n",
              "3             15  ...                 Drama\n",
              "4             17  ...                 Drama\n",
              "...          ...  ...                   ...\n",
              "1000204     5949  ...           Documentary\n",
              "1000205     5675  ...                 Drama\n",
              "1000206     5780  ...                 Drama\n",
              "1000207     5851  ...  Comedy|Drama|Western\n",
              "1000208     5938  ...           Documentary\n",
              "\n",
              "[1000209 rows x 10 columns]"
            ]
          },
          "metadata": {
            "tags": []
          },
          "execution_count": 24
        }
      ]
    },
    {
      "cell_type": "markdown",
      "metadata": {
        "id": "I9ejQAiJsFfz",
        "colab_type": "text"
      },
      "source": [
        "The Python code below will show the top 10 films among female viewers (and, for comparison's sake, the ratings for those movies by male viewers) in decreasing order (highest rated movie on top)."
      ]
    },
    {
      "cell_type": "code",
      "metadata": {
        "id": "_qSYL9vNsFf1",
        "colab_type": "code",
        "outputId": "a0669778-1897-4493-d9be-e2164a10d957",
        "colab": {
          "base_uri": "https://localhost:8080/",
          "height": 390
        }
      },
      "source": [
        "# Build pivot table\n",
        "mean_ratings = data.pivot_table('rating', index='title',\n",
        "                                columns='gender', aggfunc='mean')\n",
        "\n",
        "# Group ratings by title\n",
        "ratings_by_title = data.groupby('title').size()\n",
        "\n",
        "# Select only movies with 250 ratings or more\n",
        "active_titles = ratings_by_title.index[ratings_by_title >= 250]\n",
        "\n",
        "# Select rows on the index\n",
        "mean_ratings = mean_ratings.loc[active_titles]\n",
        "\n",
        "# Fix naming inconsistency\n",
        "mean_ratings = mean_ratings.rename(index={'Seven Samurai (The Magnificent Seven) (Shichinin no samurai) (1954)':\n",
        "                           'Seven Samurai (Shichinin no samurai) (1954)'})\n",
        "\n",
        "top_female_ratings = mean_ratings.sort_values(by='F', ascending=False)\n",
        "top_female_ratings[:10]"
      ],
      "execution_count": 26,
      "outputs": [
        {
          "output_type": "execute_result",
          "data": {
            "text/html": [
              "<div>\n",
              "<style scoped>\n",
              "    .dataframe tbody tr th:only-of-type {\n",
              "        vertical-align: middle;\n",
              "    }\n",
              "\n",
              "    .dataframe tbody tr th {\n",
              "        vertical-align: top;\n",
              "    }\n",
              "\n",
              "    .dataframe thead th {\n",
              "        text-align: right;\n",
              "    }\n",
              "</style>\n",
              "<table border=\"1\" class=\"dataframe\">\n",
              "  <thead>\n",
              "    <tr style=\"text-align: right;\">\n",
              "      <th>gender</th>\n",
              "      <th>F</th>\n",
              "      <th>M</th>\n",
              "    </tr>\n",
              "    <tr>\n",
              "      <th>title</th>\n",
              "      <th></th>\n",
              "      <th></th>\n",
              "    </tr>\n",
              "  </thead>\n",
              "  <tbody>\n",
              "    <tr>\n",
              "      <th>Close Shave, A (1995)</th>\n",
              "      <td>4.644444</td>\n",
              "      <td>4.473795</td>\n",
              "    </tr>\n",
              "    <tr>\n",
              "      <th>Wrong Trousers, The (1993)</th>\n",
              "      <td>4.588235</td>\n",
              "      <td>4.478261</td>\n",
              "    </tr>\n",
              "    <tr>\n",
              "      <th>Sunset Blvd. (a.k.a. Sunset Boulevard) (1950)</th>\n",
              "      <td>4.572650</td>\n",
              "      <td>4.464589</td>\n",
              "    </tr>\n",
              "    <tr>\n",
              "      <th>Wallace &amp; Gromit: The Best of Aardman Animation (1996)</th>\n",
              "      <td>4.563107</td>\n",
              "      <td>4.385075</td>\n",
              "    </tr>\n",
              "    <tr>\n",
              "      <th>Schindler's List (1993)</th>\n",
              "      <td>4.562602</td>\n",
              "      <td>4.491415</td>\n",
              "    </tr>\n",
              "    <tr>\n",
              "      <th>Shawshank Redemption, The (1994)</th>\n",
              "      <td>4.539075</td>\n",
              "      <td>4.560625</td>\n",
              "    </tr>\n",
              "    <tr>\n",
              "      <th>Grand Day Out, A (1992)</th>\n",
              "      <td>4.537879</td>\n",
              "      <td>4.293255</td>\n",
              "    </tr>\n",
              "    <tr>\n",
              "      <th>To Kill a Mockingbird (1962)</th>\n",
              "      <td>4.536667</td>\n",
              "      <td>4.372611</td>\n",
              "    </tr>\n",
              "    <tr>\n",
              "      <th>Creature Comforts (1990)</th>\n",
              "      <td>4.513889</td>\n",
              "      <td>4.272277</td>\n",
              "    </tr>\n",
              "    <tr>\n",
              "      <th>Usual Suspects, The (1995)</th>\n",
              "      <td>4.513317</td>\n",
              "      <td>4.518248</td>\n",
              "    </tr>\n",
              "  </tbody>\n",
              "</table>\n",
              "</div>"
            ],
            "text/plain": [
              "gender                                                     F         M\n",
              "title                                                                 \n",
              "Close Shave, A (1995)                               4.644444  4.473795\n",
              "Wrong Trousers, The (1993)                          4.588235  4.478261\n",
              "Sunset Blvd. (a.k.a. Sunset Boulevard) (1950)       4.572650  4.464589\n",
              "Wallace & Gromit: The Best of Aardman Animation...  4.563107  4.385075\n",
              "Schindler's List (1993)                             4.562602  4.491415\n",
              "Shawshank Redemption, The (1994)                    4.539075  4.560625\n",
              "Grand Day Out, A (1992)                             4.537879  4.293255\n",
              "To Kill a Mockingbird (1962)                        4.536667  4.372611\n",
              "Creature Comforts (1990)                            4.513889  4.272277\n",
              "Usual Suspects, The (1995)                          4.513317  4.518248"
            ]
          },
          "metadata": {
            "tags": []
          },
          "execution_count": 26
        }
      ]
    },
    {
      "cell_type": "markdown",
      "metadata": {
        "colab_type": "text",
        "id": "gVw4a2sosFf6"
      },
      "source": [
        "# Your turn! (10 points, i.e., 5 pts each)\n",
        "\n",
        "Modify the Python code to:\n",
        "9. Display the top 10 favorite movies among male viewers, selecting only movies with 250 ratings or more.\n",
        "10. Display the top 10 favorite movies among young viewers (17 years old or younger), selecting only movies with 300 ratings or more."
      ]
    },
    {
      "cell_type": "markdown",
      "metadata": {
        "colab_type": "text",
        "id": "nEmWq37wsFf8"
      },
      "source": [
        "## Solution"
      ]
    },
    {
      "cell_type": "code",
      "metadata": {
        "colab_type": "code",
        "id": "nI8s-njhsFf9",
        "outputId": "b27b47c3-f7b5-4361-d135-64762499a83b",
        "colab": {
          "base_uri": "https://localhost:8080/",
          "height": 425
        }
      },
      "source": [
        "#9 Display the top 10 favorite movies among male viewers, selecting only movies with 250 ratings or more.\n",
        "\n",
        "# Build pivot table\n",
        "mean_ratings = data.pivot_table('rating', index='title', columns='gender', aggfunc='mean')\n",
        "# Group ratings by title\n",
        "ratings_by_title = data.groupby('title').size()\n",
        "# Select only movies with 250 ratings or more\n",
        "active_titles = ratings_by_title.index[ratings_by_title >= 250]\n",
        "# Select rows on the index\n",
        "mean_ratings = mean_ratings.loc[active_titles]\n",
        "# Fix naming inconsistency\n",
        "mean_ratings = mean_ratings.rename(index={'Seven Samurai (The Magnificent Seven) (Shichinin no samurai) (1954)':\n",
        "                           'Seven Samurai (Shichinin no samurai) (1954)'})\n",
        "\n",
        "top_female_ratings = mean_ratings.sort_values(by='M', ascending=False)\n",
        "print (\"9.\", top_female_ratings[:10])\n",
        "\n",
        "#10 Display the top 10 favorite movies among young viewers (17 years old or younger), selecting only movies with 300 ratings or more.\n",
        "mean_ratings = data.pivot_table('rating', index='title', columns='gender', aggfunc='mean')\n",
        "ratings_by_title = data.groupby('title').size()\n",
        "ratings_by_age = data.groupby('age')\n",
        "\n",
        "#active_titles = ratings_by_title.index[ratings_by_title >= 300] - ratings_by_age.index[ratings_by_age <= 17]mean_ratings = mean_ratings.loc[a\n",
        "mean_ratings = mean_ratings.loc[active_titles]\n",
        "mean_ratings = mean_ratings.rename(index={'Seven Samurai (The Magnificent Seven) (Shichinin no samurai) (1954)':\n",
        " 'Seven Samurai (Shichinin no samurai) (1954)'})\n",
        "top_female_ratings = mean_ratings.sort_values(by='M', ascending=False)\n",
        "print(\"10.\", top_female_ratings[:10])"
      ],
      "execution_count": 33,
      "outputs": [
        {
          "output_type": "stream",
          "text": [
            "9. gender                                              F         M\n",
            "title                                                          \n",
            "Godfather, The (1972)                        4.314700  4.583333\n",
            "Seven Samurai (Shichinin no samurai) (1954)  4.481132  4.576628\n",
            "Shawshank Redemption, The (1994)             4.539075  4.560625\n",
            "Raiders of the Lost Ark (1981)               4.332168  4.520597\n",
            "Usual Suspects, The (1995)                   4.513317  4.518248\n",
            "Star Wars: Episode IV - A New Hope (1977)    4.302937  4.495307\n",
            "Schindler's List (1993)                      4.562602  4.491415\n",
            "Wrong Trousers, The (1993)                   4.588235  4.478261\n",
            "Close Shave, A (1995)                        4.644444  4.473795\n",
            "Rear Window (1954)                           4.484536  4.472991\n",
            "10. gender                                              F         M\n",
            "title                                                          \n",
            "Godfather, The (1972)                        4.314700  4.583333\n",
            "Seven Samurai (Shichinin no samurai) (1954)  4.481132  4.576628\n",
            "Shawshank Redemption, The (1994)             4.539075  4.560625\n",
            "Raiders of the Lost Ark (1981)               4.332168  4.520597\n",
            "Usual Suspects, The (1995)                   4.513317  4.518248\n",
            "Star Wars: Episode IV - A New Hope (1977)    4.302937  4.495307\n",
            "Schindler's List (1993)                      4.562602  4.491415\n",
            "Wrong Trousers, The (1993)                   4.588235  4.478261\n",
            "Close Shave, A (1995)                        4.644444  4.473795\n",
            "Rear Window (1954)                           4.484536  4.472991\n"
          ],
          "name": "stdout"
        }
      ]
    },
    {
      "cell_type": "markdown",
      "metadata": {
        "colab_type": "text",
        "id": "h0I7cs6ZsFgC"
      },
      "source": [
        "# BONUS! (up to 20 points)\n",
        "\n",
        "Write Python code to display the most divisive movies (selecting only movies with 250 ratings or more), i.e.:\n",
        "- The top 10 movies with the greatest rating difference so that we can see which ones were preferred by women.\n",
        "- The top 10 movies with the greatest rating difference in the opposite direction (sign) so that we can see which ones were preferred by men.\n",
        "\n",
        "Hint/Convention: ``mean_ratings['diff'] = mean_ratings['M'] - mean_ratings['F']``"
      ]
    },
    {
      "cell_type": "markdown",
      "metadata": {
        "colab_type": "text",
        "id": "U3C5NAR5sFgD"
      },
      "source": [
        "## Solution"
      ]
    },
    {
      "cell_type": "code",
      "metadata": {
        "colab_type": "code",
        "id": "-9YRsnx0sFgF",
        "colab": {
          "base_uri": "https://localhost:8080/",
          "height": 459
        },
        "outputId": "e7920469-9f64-48e6-8a2e-ec4583d203f6"
      },
      "source": [
        "# The top 10 movies with the greatest rating difference so that we can see which ones were preferred by women.\n",
        "print(\"Greatest rating difference, movies preferred by women\")\n",
        "mean_ratings = data.pivot_table('rating', index='title', columns='gender', aggfunc='mean')\n",
        "ratings_by_title = data.groupby('title').size()\n",
        "mean_ratings['diff'] = mean_ratings['F'] - mean_ratings['M']\n",
        "mean_ratings = mean_ratings.loc[active_titles]\n",
        "mean_ratings = mean_ratings.rename(index={'Seven Samurai (The Magnificent Seven) (Shichinin no samurai) (1954)':\n",
        " 'Seven Samurai (Shichinin no samurai) (1954)'})\n",
        "\n",
        "top_female_ratings = mean_ratings.sort_values(by='diff', ascending=False)\n",
        "print (top_female_ratings[:10])\n",
        "\n",
        "\n",
        "# The top 10 movies with the greatest rating difference in the opposite direction (sign) so that we can see which ones were preferred by men.\n",
        "print(\"Greatest rating difference, movies preferred by men\")\n",
        "mean_ratings = data.pivot_table('rating', index='title', columns='gender', aggfunc='mean')\n",
        "ratings_by_title = data.groupby('title').size()\n",
        "mean_ratings['diff'] = mean_ratings['M'] - mean_ratings['F']\n",
        "mean_ratings = mean_ratings.loc[active_titles]\n",
        "mean_ratings = mean_ratings.rename(index={'Seven Samurai (The Magnificent Seven) (Shichinin no samurai) (1954)':\n",
        " 'Seven Samurai (Shichinin no samurai) (1954)'})\n",
        "top_female_ratings = mean_ratings.sort_values(by='diff', ascending=False)\n",
        "print (top_female_ratings[:10])"
      ],
      "execution_count": 36,
      "outputs": [
        {
          "output_type": "stream",
          "text": [
            "Greatest rating difference, movies preferred by women\n",
            "gender                                        F         M      diff\n",
            "title                                                              \n",
            "Dirty Dancing (1987)                   3.790378  2.959596  0.830782\n",
            "Jumpin' Jack Flash (1986)              3.254717  2.578358  0.676359\n",
            "Grease (1978)                          3.975265  3.367041  0.608224\n",
            "Little Women (1994)                    3.870588  3.321739  0.548849\n",
            "Steel Magnolias (1989)                 3.901734  3.365957  0.535777\n",
            "Anastasia (1997)                       3.800000  3.281609  0.518391\n",
            "Rocky Horror Picture Show, The (1975)  3.673016  3.160131  0.512885\n",
            "Color Purple, The (1985)               4.158192  3.659341  0.498851\n",
            "Age of Innocence, The (1993)           3.827068  3.339506  0.487561\n",
            "Free Willy (1993)                      2.921348  2.438776  0.482573\n",
            "Greatest rating difference, movies preferred by men\n",
            "gender                                         F         M      diff\n",
            "title                                                               \n",
            "Good, The Bad and The Ugly, The (1966)  3.494949  4.221300  0.726351\n",
            "Kentucky Fried Movie, The (1977)        2.878788  3.555147  0.676359\n",
            "Dumb & Dumber (1994)                    2.697987  3.336595  0.638608\n",
            "Longest Day, The (1962)                 3.411765  4.031447  0.619682\n",
            "Cable Guy, The (1996)                   2.250000  2.863787  0.613787\n",
            "Evil Dead II (Dead By Dawn) (1987)      3.297297  3.909283  0.611985\n",
            "Hidden, The (1987)                      3.137931  3.745098  0.607167\n",
            "Rocky III (1982)                        2.361702  2.943503  0.581801\n",
            "Caddyshack (1980)                       3.396135  3.969737  0.573602\n",
            "For a Few Dollars More (1965)           3.409091  3.953795  0.544704\n"
          ],
          "name": "stdout"
        }
      ]
    },
    {
      "cell_type": "markdown",
      "metadata": {
        "colab_type": "text",
        "id": "gaLAO1UBsFgK"
      },
      "source": [
        "# BONUS! (up to 10 points)\n",
        "\n",
        "Write Python code to display the top 10 movies (with 250 ratings or more) that elicited the most disagreement among viewers, independent of gender identification. \n",
        "\n",
        "Hint: Disagreement can be measured by the _variance_ or _standard deviation_ of the ratings."
      ]
    },
    {
      "cell_type": "markdown",
      "metadata": {
        "colab_type": "text",
        "id": "Bd7u2IKosFgM"
      },
      "source": [
        "## Solution"
      ]
    },
    {
      "cell_type": "code",
      "metadata": {
        "colab_type": "code",
        "id": "9CLP4AYcsFgN",
        "colab": {}
      },
      "source": [
        "# ENTER YOUR CODE HERE\n",
        "# ...\n",
        "# ...\n",
        "# ..."
      ],
      "execution_count": 0,
      "outputs": []
    },
    {
      "cell_type": "markdown",
      "metadata": {
        "colab_type": "text",
        "id": "qU8CuHgmsFgS"
      },
      "source": [
        "# BONUS! (up to 10 points)\n",
        "\n",
        "Write Python code to answer the question: \n",
        "What is the most popular movie genre? \n",
        "Plot a histogram of the genre counts and report the size of the largest bin.\n",
        "\n",
        "Hint: use the original **movies** data frame, _before_ the merge!"
      ]
    },
    {
      "cell_type": "markdown",
      "metadata": {
        "colab_type": "text",
        "id": "2zQ-wsymsFgT"
      },
      "source": [
        "## Solution"
      ]
    },
    {
      "cell_type": "code",
      "metadata": {
        "colab_type": "code",
        "id": "acUOPTL8sFgX",
        "colab": {}
      },
      "source": [
        "# ENTER YOUR CODE HERE\n",
        "# ...\n",
        "# ...\n",
        "# ..."
      ],
      "execution_count": 0,
      "outputs": []
    },
    {
      "cell_type": "markdown",
      "metadata": {
        "colab_type": "text",
        "id": "ivz9CfpTOKTc"
      },
      "source": [
        "------------\n",
        "## Part 2: Titanic"
      ]
    },
    {
      "cell_type": "markdown",
      "metadata": {
        "colab_type": "text",
        "id": "F0XHAppiOKTc"
      },
      "source": [
        "In this part we'll use the dataset of passengers on the *Titanic*, available through the Seaborn library.\n",
        "\n",
        "See https://www.kaggle.com/c/titanic/data for codebook and additional information."
      ]
    },
    {
      "cell_type": "code",
      "metadata": {
        "id": "7KNX5ujfsFgd",
        "colab_type": "code",
        "colab": {}
      },
      "source": [
        "titanic = sns.load_dataset('titanic')"
      ],
      "execution_count": 0,
      "outputs": []
    },
    {
      "cell_type": "code",
      "metadata": {
        "id": "SwGHO6McsFgl",
        "colab_type": "code",
        "outputId": "42596762-e8fe-4bf8-947b-a94e7a67fe7f",
        "colab": {
          "base_uri": "https://localhost:8080/",
          "height": 204
        }
      },
      "source": [
        "titanic.head()"
      ],
      "execution_count": 41,
      "outputs": [
        {
          "output_type": "execute_result",
          "data": {
            "text/html": [
              "<div>\n",
              "<style scoped>\n",
              "    .dataframe tbody tr th:only-of-type {\n",
              "        vertical-align: middle;\n",
              "    }\n",
              "\n",
              "    .dataframe tbody tr th {\n",
              "        vertical-align: top;\n",
              "    }\n",
              "\n",
              "    .dataframe thead th {\n",
              "        text-align: right;\n",
              "    }\n",
              "</style>\n",
              "<table border=\"1\" class=\"dataframe\">\n",
              "  <thead>\n",
              "    <tr style=\"text-align: right;\">\n",
              "      <th></th>\n",
              "      <th>survived</th>\n",
              "      <th>pclass</th>\n",
              "      <th>sex</th>\n",
              "      <th>age</th>\n",
              "      <th>sibsp</th>\n",
              "      <th>parch</th>\n",
              "      <th>fare</th>\n",
              "      <th>embarked</th>\n",
              "      <th>class</th>\n",
              "      <th>who</th>\n",
              "      <th>adult_male</th>\n",
              "      <th>deck</th>\n",
              "      <th>embark_town</th>\n",
              "      <th>alive</th>\n",
              "      <th>alone</th>\n",
              "    </tr>\n",
              "  </thead>\n",
              "  <tbody>\n",
              "    <tr>\n",
              "      <th>0</th>\n",
              "      <td>0</td>\n",
              "      <td>3</td>\n",
              "      <td>male</td>\n",
              "      <td>22.0</td>\n",
              "      <td>1</td>\n",
              "      <td>0</td>\n",
              "      <td>7.2500</td>\n",
              "      <td>S</td>\n",
              "      <td>Third</td>\n",
              "      <td>man</td>\n",
              "      <td>True</td>\n",
              "      <td>NaN</td>\n",
              "      <td>Southampton</td>\n",
              "      <td>no</td>\n",
              "      <td>False</td>\n",
              "    </tr>\n",
              "    <tr>\n",
              "      <th>1</th>\n",
              "      <td>1</td>\n",
              "      <td>1</td>\n",
              "      <td>female</td>\n",
              "      <td>38.0</td>\n",
              "      <td>1</td>\n",
              "      <td>0</td>\n",
              "      <td>71.2833</td>\n",
              "      <td>C</td>\n",
              "      <td>First</td>\n",
              "      <td>woman</td>\n",
              "      <td>False</td>\n",
              "      <td>C</td>\n",
              "      <td>Cherbourg</td>\n",
              "      <td>yes</td>\n",
              "      <td>False</td>\n",
              "    </tr>\n",
              "    <tr>\n",
              "      <th>2</th>\n",
              "      <td>1</td>\n",
              "      <td>3</td>\n",
              "      <td>female</td>\n",
              "      <td>26.0</td>\n",
              "      <td>0</td>\n",
              "      <td>0</td>\n",
              "      <td>7.9250</td>\n",
              "      <td>S</td>\n",
              "      <td>Third</td>\n",
              "      <td>woman</td>\n",
              "      <td>False</td>\n",
              "      <td>NaN</td>\n",
              "      <td>Southampton</td>\n",
              "      <td>yes</td>\n",
              "      <td>True</td>\n",
              "    </tr>\n",
              "    <tr>\n",
              "      <th>3</th>\n",
              "      <td>1</td>\n",
              "      <td>1</td>\n",
              "      <td>female</td>\n",
              "      <td>35.0</td>\n",
              "      <td>1</td>\n",
              "      <td>0</td>\n",
              "      <td>53.1000</td>\n",
              "      <td>S</td>\n",
              "      <td>First</td>\n",
              "      <td>woman</td>\n",
              "      <td>False</td>\n",
              "      <td>C</td>\n",
              "      <td>Southampton</td>\n",
              "      <td>yes</td>\n",
              "      <td>False</td>\n",
              "    </tr>\n",
              "    <tr>\n",
              "      <th>4</th>\n",
              "      <td>0</td>\n",
              "      <td>3</td>\n",
              "      <td>male</td>\n",
              "      <td>35.0</td>\n",
              "      <td>0</td>\n",
              "      <td>0</td>\n",
              "      <td>8.0500</td>\n",
              "      <td>S</td>\n",
              "      <td>Third</td>\n",
              "      <td>man</td>\n",
              "      <td>True</td>\n",
              "      <td>NaN</td>\n",
              "      <td>Southampton</td>\n",
              "      <td>no</td>\n",
              "      <td>True</td>\n",
              "    </tr>\n",
              "  </tbody>\n",
              "</table>\n",
              "</div>"
            ],
            "text/plain": [
              "   survived  pclass     sex   age  ...  deck  embark_town  alive  alone\n",
              "0         0       3    male  22.0  ...   NaN  Southampton     no  False\n",
              "1         1       1  female  38.0  ...     C    Cherbourg    yes  False\n",
              "2         1       3  female  26.0  ...   NaN  Southampton    yes   True\n",
              "3         1       1  female  35.0  ...     C  Southampton    yes  False\n",
              "4         0       3    male  35.0  ...   NaN  Southampton     no   True\n",
              "\n",
              "[5 rows x 15 columns]"
            ]
          },
          "metadata": {
            "tags": []
          },
          "execution_count": 41
        }
      ]
    },
    {
      "cell_type": "markdown",
      "metadata": {
        "colab_type": "text",
        "id": "TTEVu2FjOKTq"
      },
      "source": [
        "## Questions 11-14 (16 points total, i.e. 4 pts each)\n",
        "\n",
        "Look at the Python code below and answer the following questions (expressing the amounts in % terms):\n",
        "\n",
        "11. How many female passengers did not survive (regardless of their class)?\n",
        "12. How many first class female passengers did not survive?\n",
        "13. How many male passengers did not survive (regardless of their class)?\n",
        "14. How many third class male passengers did not survive?"
      ]
    },
    {
      "cell_type": "code",
      "metadata": {
        "id": "2VhloRhQsFgz",
        "colab_type": "code",
        "outputId": "231bd2e3-0b1f-4a12-ea04-809f3f70efa0",
        "colab": {}
      },
      "source": [
        "titanic.pivot_table('survived', index='sex', columns='class', margins=True)"
      ],
      "execution_count": 0,
      "outputs": [
        {
          "output_type": "execute_result",
          "data": {
            "text/html": [
              "<div>\n",
              "<style scoped>\n",
              "    .dataframe tbody tr th:only-of-type {\n",
              "        vertical-align: middle;\n",
              "    }\n",
              "\n",
              "    .dataframe tbody tr th {\n",
              "        vertical-align: top;\n",
              "    }\n",
              "\n",
              "    .dataframe thead th {\n",
              "        text-align: right;\n",
              "    }\n",
              "</style>\n",
              "<table border=\"1\" class=\"dataframe\">\n",
              "  <thead>\n",
              "    <tr style=\"text-align: right;\">\n",
              "      <th>class</th>\n",
              "      <th>First</th>\n",
              "      <th>Second</th>\n",
              "      <th>Third</th>\n",
              "      <th>All</th>\n",
              "    </tr>\n",
              "    <tr>\n",
              "      <th>sex</th>\n",
              "      <th></th>\n",
              "      <th></th>\n",
              "      <th></th>\n",
              "      <th></th>\n",
              "    </tr>\n",
              "  </thead>\n",
              "  <tbody>\n",
              "    <tr>\n",
              "      <th>female</th>\n",
              "      <td>0.968085</td>\n",
              "      <td>0.921053</td>\n",
              "      <td>0.500000</td>\n",
              "      <td>0.742038</td>\n",
              "    </tr>\n",
              "    <tr>\n",
              "      <th>male</th>\n",
              "      <td>0.368852</td>\n",
              "      <td>0.157407</td>\n",
              "      <td>0.135447</td>\n",
              "      <td>0.188908</td>\n",
              "    </tr>\n",
              "    <tr>\n",
              "      <th>All</th>\n",
              "      <td>0.629630</td>\n",
              "      <td>0.472826</td>\n",
              "      <td>0.242363</td>\n",
              "      <td>0.383838</td>\n",
              "    </tr>\n",
              "  </tbody>\n",
              "</table>\n",
              "</div>"
            ],
            "text/plain": [
              "class      First    Second     Third       All\n",
              "sex                                           \n",
              "female  0.968085  0.921053  0.500000  0.742038\n",
              "male    0.368852  0.157407  0.135447  0.188908\n",
              "All     0.629630  0.472826  0.242363  0.383838"
            ]
          },
          "metadata": {
            "tags": []
          },
          "execution_count": 14
        }
      ]
    },
    {
      "cell_type": "code",
      "metadata": {
        "id": "FagNGeYvsFg7",
        "colab_type": "code",
        "outputId": "9b28def0-77c5-49bd-8fd5-c48f378bedb1",
        "colab": {}
      },
      "source": [
        "sns.catplot(x=\"sex\", y=\"survived\", hue=\"class\", kind=\"bar\", data=titanic);"
      ],
      "execution_count": 0,
      "outputs": [
        {
          "output_type": "display_data",
          "data": {
            "image/png": "[encoded data removed]",
            "text/plain": [
              "<Figure size 432.625x360 with 1 Axes>"
            ]
          },
          "metadata": {
            "tags": [],
            "needs_background": "light"
          }
        }
      ]
    },
    {
      "cell_type": "markdown",
      "metadata": {
        "colab_type": "text",
        "id": "dv-bu9a77Zit"
      },
      "source": [
        "## Solution"
      ]
    },
    {
      "cell_type": "markdown",
      "metadata": {
        "colab_type": "text",
        "id": "eOLyQdlcOKTq"
      },
      "source": [
        "11. How many female passengers did not survive (regardless of their class)?\n",
        "26%\n",
        "\n",
        "12. How many first class female passengers did not survive?\n",
        "3%\n",
        "\n",
        "13. How many male passengers did not survive (regardless of their class)?\n",
        "81%\n",
        "\n",
        "14. How many third class male passengers did not survive?\n",
        "86%\n"
      ]
    },
    {
      "cell_type": "markdown",
      "metadata": {
        "colab_type": "text",
        "id": "BbUZtqu7OKTl"
      },
      "source": [
        "## Your turn! (12 points, i.e., 4 pts each)\n",
        "\n",
        "Write Python code to answer the following questions (make sure the messages displayed by your code are complete and descriptive enough):\n",
        "\n",
        "15. How many passengers (absolute number) were there per deck/class? \n",
        "\n",
        "(**Hint**: The plot below shows how decks and classes were related and provides a visual estimate.)\n",
        "16. How many passengers (absolute number) in Deck A survived?\n",
        "17. How many passengers (absolute number) in Deck E survived and what was the breakdown (in Deck E) per class?\n",
        "\n",
        "![example_categorical_plot_titanic.png](attachment:example_categorical_plot_titanic.png)"
      ]
    },
    {
      "cell_type": "markdown",
      "metadata": {
        "colab_type": "text",
        "id": "eWDwcuiz7Wiz"
      },
      "source": [
        "## Solution"
      ]
    },
    {
      "cell_type": "code",
      "metadata": {
        "colab_type": "code",
        "id": "ZZqA7kEWOKTl",
        "outputId": "81281354-3ced-4b2a-aaac-909e619b7828",
        "colab": {
          "base_uri": "https://localhost:8080/",
          "height": 272
        }
      },
      "source": [
        "print(\"15. How many passengers (absolute number) were there per deck/class?\")\n",
        "df = pd.DataFrame(titanic)\n",
        "numOfPeople = len(titanic['survived'].index)\n",
        "i = 0\n",
        "peopleClass1 = 0\n",
        "peopleClass2 = 0\n",
        "peopleClass3 = 0\n",
        "while i < numOfPeople:\n",
        "    if df['pclass'][i] == 1:\n",
        "      peopleClass1 += 1\n",
        "    if df['pclass'][i] == 2:\n",
        "      peopleClass2 += 1\n",
        "    if df['pclass'][i] == 3:\n",
        "      peopleClass3 += 1\n",
        "    i += 1 \n",
        "print (\"Number of passengers first class:\", peopleClass1)\n",
        "print (\"Number of passengers second class:\", peopleClass2)\n",
        "print (\"Number of passengers third class:\", peopleClass3)\n",
        "\n",
        "i = 0\n",
        "peopleDeckA = 0\n",
        "peopleDeckB = 0\n",
        "peopleDeckC = 0\n",
        "peopleDeckD = 0\n",
        "peopleDeckE = 0\n",
        "peopleDeckF = 0\n",
        "peopleDeckG = 0\n",
        "peopleDeckUnknown = 0\n",
        "\n",
        "while i < numOfPeople:\n",
        "    if df['deck'][i] == 'A':\n",
        "        peopleDeckA += 1\n",
        "    if df['deck'][i] == 'B':\n",
        "       peopleDeckB += 1\n",
        "    if df['deck'][i] == 'C':\n",
        "        peopleDeckC += 1\n",
        "    if df['deck'][i] == 'D':\n",
        "        peopleDeckD += 1\n",
        "    if df['deck'][i] == 'E':\n",
        "       peopleDeckE += 1\n",
        "    if df['deck'][i] == 'F':\n",
        "       peopleDeckF += 1\n",
        "    if df['deck'][i] == 'G':\n",
        "       peopleDeckG += 1\n",
        "    else:\n",
        "      peopleDeckUnknown += 1\n",
        "    i += 1 \n",
        "    \n",
        "print (\"Number of passengers deck A:\", peopleDeckA)\n",
        "print (\"Number of passengers deck B:\", peopleDeckB)\n",
        "print (\"Number of passengers deck C:\", peopleDeckC)\n",
        "print (\"Number of passengers deck D:\", peopleDeckD)\n",
        "print (\"Number of passengers deck E:\", peopleDeckE)\n",
        "print (\"Number of passengers deck F:\", peopleDeckF)\n",
        "print (\"Number of passengers deck G:\", peopleDeckG)\n",
        "print (\"Number of passengers unknown deck:\", peopleDeckUnknown)\n",
        "\n",
        "print (\"\\n16. How many passengers in Deck A survived?\")\n",
        "i = 0\n",
        "survivorsDeckA = 0\n",
        "while i < numOfPeople:\n",
        "  if df['deck'][i] == 'A' and df['survived'][i] == 1:survivorsDeckA += 1\n",
        "  i += 1\n",
        "print (\"Number of passengers in Deck A that survived:\", survivorsDeckA)"
      ],
      "execution_count": 69,
      "outputs": [
        {
          "output_type": "stream",
          "text": [
            "15. How many passengers (absolute number) were there per deck/class?\n",
            "Number of passengers first class: 216\n",
            "Number of passengers second class: 184\n",
            "Number of passengers third class: 491\n",
            "Number of passengers deck A: 15\n",
            "Number of passengers deck B: 47\n",
            "Number of passengers deck C: 59\n",
            "Number of passengers deck D: 33\n",
            "Number of passengers deck E: 32\n",
            "Number of passengers deck F: 13\n",
            "Number of passengers deck G: 4\n",
            "Number of passengers unknown deck: 887\n",
            "\n",
            "16. How many passengers in Deck A survived?\n",
            "Number of passengers in Deck A that survived: 7\n"
          ],
          "name": "stdout"
        }
      ]
    },
    {
      "cell_type": "markdown",
      "metadata": {
        "colab_type": "text",
        "id": "TOihXFz9sFhH"
      },
      "source": [
        "# BONUS! (up to 20 points)\n",
        "\n",
        "Write Python code to answer the following questions (using percentage values):\n",
        "- How many women traveling alone did not survive?\n",
        "- How many men 35 years old or younger did not survive?\n",
        "- What was the average fare per class?"
      ]
    },
    {
      "cell_type": "markdown",
      "metadata": {
        "colab_type": "text",
        "id": "Zmbh5oApsFhI"
      },
      "source": [
        "## Solution"
      ]
    },
    {
      "cell_type": "code",
      "metadata": {
        "colab_type": "code",
        "id": "DctYpv70sFhK",
        "colab": {}
      },
      "source": [
        "# ENTER YOUR CODE HERE\n",
        "# ...\n",
        "# ...\n",
        "# ..."
      ],
      "execution_count": 0,
      "outputs": []
    },
    {
      "cell_type": "markdown",
      "metadata": {
        "colab_type": "text",
        "id": "rodIJrMesFhO"
      },
      "source": [
        "------------\n",
        "## Part 3: US Baby Names 1880–2018"
      ]
    },
    {
      "cell_type": "markdown",
      "metadata": {
        "colab_type": "text",
        "id": "xdubOC5VsFhO"
      },
      "source": [
        "The United States Social Security Administration (SSA) has made available data on the frequency of baby names from 1880 through the present. These plain text data files, one per year, contain the total number of births for each sex/name combination. The raw archive of these files can be obtained from http://www.ssa.gov/oact/babynames/limits.html.\n",
        "\n",
        "After downloading the 'National data' file _names.zip_ and unzipping it, you will have a directory containing a series of files like _yob1880.txt_ through _yob2018.txt_. We need to do some data wrangling to load this dataset (see code below)."
      ]
    },
    {
      "cell_type": "markdown",
      "metadata": {
        "id": "PYz9GdTusFhQ",
        "colab_type": "text"
      },
      "source": [
        "For your convenience, I have made the _names.zip_ file available on Canvas. \n",
        "Before running the cell below, make sure that you have downloaded it, unzipped it, and placed its contents under the 'data' folder. \n",
        "\n",
        "![names_path.png](attachment:names_path.png)"
      ]
    },
    {
      "cell_type": "code",
      "metadata": {
        "id": "Ac0qNdEUsFhR",
        "colab_type": "code",
        "colab": {}
      },
      "source": [
        "years = range(1880, 2019)\n",
        "\n",
        "pieces = []\n",
        "columns = ['name', 'sex', 'births']\n",
        "\n",
        "for year in years:\n",
        "    path = '/content/gdrive/My Drive/Colab Notebooks/assignment2/data/names/yob%d.txt' % year\n",
        "    frame = pd.read_csv(path, names=columns)\n",
        "\n",
        "    frame['year'] = year\n",
        "    pieces.append(frame)\n",
        "\n",
        "# Concatenate everything into a single DataFrame\n",
        "names = pd.concat(pieces, ignore_index=True)"
      ],
      "execution_count": 0,
      "outputs": []
    },
    {
      "cell_type": "code",
      "metadata": {
        "id": "H1kENVoAsFhU",
        "colab_type": "code",
        "outputId": "b1f2e5b3-c378-41cf-e458-260271c1c767",
        "colab": {}
      },
      "source": [
        "names"
      ],
      "execution_count": 0,
      "outputs": [
        {
          "output_type": "execute_result",
          "data": {
            "text/html": [
              "<div>\n",
              "<style scoped>\n",
              "    .dataframe tbody tr th:only-of-type {\n",
              "        vertical-align: middle;\n",
              "    }\n",
              "\n",
              "    .dataframe tbody tr th {\n",
              "        vertical-align: top;\n",
              "    }\n",
              "\n",
              "    .dataframe thead th {\n",
              "        text-align: right;\n",
              "    }\n",
              "</style>\n",
              "<table border=\"1\" class=\"dataframe\">\n",
              "  <thead>\n",
              "    <tr style=\"text-align: right;\">\n",
              "      <th></th>\n",
              "      <th>name</th>\n",
              "      <th>sex</th>\n",
              "      <th>births</th>\n",
              "      <th>year</th>\n",
              "    </tr>\n",
              "  </thead>\n",
              "  <tbody>\n",
              "    <tr>\n",
              "      <th>0</th>\n",
              "      <td>Mary</td>\n",
              "      <td>F</td>\n",
              "      <td>7065</td>\n",
              "      <td>1880</td>\n",
              "    </tr>\n",
              "    <tr>\n",
              "      <th>1</th>\n",
              "      <td>Anna</td>\n",
              "      <td>F</td>\n",
              "      <td>2604</td>\n",
              "      <td>1880</td>\n",
              "    </tr>\n",
              "    <tr>\n",
              "      <th>2</th>\n",
              "      <td>Emma</td>\n",
              "      <td>F</td>\n",
              "      <td>2003</td>\n",
              "      <td>1880</td>\n",
              "    </tr>\n",
              "    <tr>\n",
              "      <th>3</th>\n",
              "      <td>Elizabeth</td>\n",
              "      <td>F</td>\n",
              "      <td>1939</td>\n",
              "      <td>1880</td>\n",
              "    </tr>\n",
              "    <tr>\n",
              "      <th>4</th>\n",
              "      <td>Minnie</td>\n",
              "      <td>F</td>\n",
              "      <td>1746</td>\n",
              "      <td>1880</td>\n",
              "    </tr>\n",
              "    <tr>\n",
              "      <th>...</th>\n",
              "      <td>...</td>\n",
              "      <td>...</td>\n",
              "      <td>...</td>\n",
              "      <td>...</td>\n",
              "    </tr>\n",
              "    <tr>\n",
              "      <th>1957041</th>\n",
              "      <td>Zylas</td>\n",
              "      <td>M</td>\n",
              "      <td>5</td>\n",
              "      <td>2018</td>\n",
              "    </tr>\n",
              "    <tr>\n",
              "      <th>1957042</th>\n",
              "      <td>Zyran</td>\n",
              "      <td>M</td>\n",
              "      <td>5</td>\n",
              "      <td>2018</td>\n",
              "    </tr>\n",
              "    <tr>\n",
              "      <th>1957043</th>\n",
              "      <td>Zyrie</td>\n",
              "      <td>M</td>\n",
              "      <td>5</td>\n",
              "      <td>2018</td>\n",
              "    </tr>\n",
              "    <tr>\n",
              "      <th>1957044</th>\n",
              "      <td>Zyron</td>\n",
              "      <td>M</td>\n",
              "      <td>5</td>\n",
              "      <td>2018</td>\n",
              "    </tr>\n",
              "    <tr>\n",
              "      <th>1957045</th>\n",
              "      <td>Zzyzx</td>\n",
              "      <td>M</td>\n",
              "      <td>5</td>\n",
              "      <td>2018</td>\n",
              "    </tr>\n",
              "  </tbody>\n",
              "</table>\n",
              "<p>1957046 rows × 4 columns</p>\n",
              "</div>"
            ],
            "text/plain": [
              "              name sex  births  year\n",
              "0             Mary   F    7065  1880\n",
              "1             Anna   F    2604  1880\n",
              "2             Emma   F    2003  1880\n",
              "3        Elizabeth   F    1939  1880\n",
              "4           Minnie   F    1746  1880\n",
              "...            ...  ..     ...   ...\n",
              "1957041      Zylas   M       5  2018\n",
              "1957042      Zyran   M       5  2018\n",
              "1957043      Zyrie   M       5  2018\n",
              "1957044      Zyron   M       5  2018\n",
              "1957045      Zzyzx   M       5  2018\n",
              "\n",
              "[1957046 rows x 4 columns]"
            ]
          },
          "metadata": {
            "tags": []
          },
          "execution_count": 19
        }
      ]
    },
    {
      "cell_type": "markdown",
      "metadata": {
        "colab_type": "text",
        "id": "KurMrocpOKTo"
      },
      "source": [
        "## Your turn! (25 points)\n",
        "\n",
        "Write Python code to compute the number of baby boys and baby girls born each year and display the two line plots over time. \n",
        "\n",
        "Hint: Start by aggregating the data at the year and sex level using ``groupby`` or ``pivot_table``.\n",
        "\n",
        "Your plot should look like this:\n",
        "\n",
        "![birth_vs_year.png](attachment:birth_vs_year.png)"
      ]
    },
    {
      "cell_type": "markdown",
      "metadata": {
        "colab_type": "text",
        "id": "5jY56oY97Yvp"
      },
      "source": [
        "## Solution"
      ]
    },
    {
      "cell_type": "code",
      "metadata": {
        "colab_type": "code",
        "id": "A4QFk_ktOKTo",
        "colab": {
          "base_uri": "https://localhost:8080/",
          "height": 918
        },
        "outputId": "f649343f-ae06-4bd3-ea25-a6b61efc9828"
      },
      "source": [
        "def add_prop(group):\n",
        "    group['prop'] = group.births / group.births.sum()\n",
        "    return group\n",
        "names = names.groupby(['year', 'sex']).apply(add_prop)\n",
        "\n",
        "total_births = names.pivot_table('births', index='year',\n",
        "                                 columns='sex',\n",
        "                                 aggfunc=sum)\n",
        "\n",
        "total_births.plot(subplots=True, figsize=(12, 10), grid=False,\n",
        "             title=\"Number of births per year\")\n",
        "total_births.plot(style={'M': 'b-', 'F': 'r--'})"
      ],
      "execution_count": 54,
      "outputs": [
        {
          "output_type": "execute_result",
          "data": {
            "text/plain": [
              "<matplotlib.axes._subplots.AxesSubplot at 0x7f8de46bd668>"
            ]
          },
          "metadata": {
            "tags": []
          },
          "execution_count": 54
        },
        {
          "output_type": "display_data",
          "data": {
            "image/png": "[encoded data removed]",
            "text/plain": [
              "<Figure size 864x720 with 2 Axes>"
            ]
          },
          "metadata": {
            "tags": []
          }
        },
        {
          "output_type": "display_data",
          "data": {
            "image/png": "[encoded data removed]",
            "text/plain": [
              "<Figure size 432x288 with 1 Axes>"
            ]
          },
          "metadata": {
            "tags": []
          }
        }
      ]
    },
    {
      "cell_type": "markdown",
      "metadata": {
        "colab_type": "text",
        "id": "YNr4O_tHOKTn"
      },
      "source": [
        "-------------\n",
        "## Analyzing Naming Trends\n",
        "\n",
        "Suppose we're interested in analyzing the Top 1000 most popular baby names per year.\n",
        "\n",
        "We will do so by following these steps:\n",
        "1. Insert a column _prop_ with the fraction of babies given each name relative to the total number of births. A prop value of 0.02 would indicate that 2 out of every 100 babies were given a particular name in a given year. \n",
        "2. Group the data by year and sex, then add the new column to each group.\n",
        "3. Extract a subset of the data (the top 1,000 names for each sex/year combination). This is yet another group operation.\n",
        "4. Split the Top 1,000 names into the boy and girl portions.\n",
        "5. Build a pivot table of the total number of births by year and name.\n",
        "\n",
        "Finally, we will plot the percentage of babies named 'John', 'Noah', 'Madison', or 'Lorraine' over time."
      ]
    },
    {
      "cell_type": "code",
      "metadata": {
        "id": "AXMKcqkEsFhj",
        "colab_type": "code",
        "colab": {}
      },
      "source": [
        "def add_prop(group):\n",
        "    group['prop'] = group.births / group.births.sum()\n",
        "    return group\n",
        "names = names.groupby(['year', 'sex']).apply(add_prop)"
      ],
      "execution_count": 0,
      "outputs": []
    },
    {
      "cell_type": "code",
      "metadata": {
        "id": "uKVHEpofsFho",
        "colab_type": "code",
        "outputId": "54d5b6f9-6429-4f42-b23f-96d5422c5ca3",
        "colab": {
          "base_uri": "https://localhost:8080/",
          "height": 419
        }
      },
      "source": [
        "names"
      ],
      "execution_count": 57,
      "outputs": [
        {
          "output_type": "execute_result",
          "data": {
            "text/html": [
              "<div>\n",
              "<style scoped>\n",
              "    .dataframe tbody tr th:only-of-type {\n",
              "        vertical-align: middle;\n",
              "    }\n",
              "\n",
              "    .dataframe tbody tr th {\n",
              "        vertical-align: top;\n",
              "    }\n",
              "\n",
              "    .dataframe thead th {\n",
              "        text-align: right;\n",
              "    }\n",
              "</style>\n",
              "<table border=\"1\" class=\"dataframe\">\n",
              "  <thead>\n",
              "    <tr style=\"text-align: right;\">\n",
              "      <th></th>\n",
              "      <th>name</th>\n",
              "      <th>sex</th>\n",
              "      <th>births</th>\n",
              "      <th>year</th>\n",
              "      <th>prop</th>\n",
              "    </tr>\n",
              "  </thead>\n",
              "  <tbody>\n",
              "    <tr>\n",
              "      <th>0</th>\n",
              "      <td>Mary</td>\n",
              "      <td>F</td>\n",
              "      <td>7065</td>\n",
              "      <td>1880</td>\n",
              "      <td>0.077642</td>\n",
              "    </tr>\n",
              "    <tr>\n",
              "      <th>1</th>\n",
              "      <td>Anna</td>\n",
              "      <td>F</td>\n",
              "      <td>2604</td>\n",
              "      <td>1880</td>\n",
              "      <td>0.028617</td>\n",
              "    </tr>\n",
              "    <tr>\n",
              "      <th>2</th>\n",
              "      <td>Emma</td>\n",
              "      <td>F</td>\n",
              "      <td>2003</td>\n",
              "      <td>1880</td>\n",
              "      <td>0.022012</td>\n",
              "    </tr>\n",
              "    <tr>\n",
              "      <th>3</th>\n",
              "      <td>Elizabeth</td>\n",
              "      <td>F</td>\n",
              "      <td>1939</td>\n",
              "      <td>1880</td>\n",
              "      <td>0.021309</td>\n",
              "    </tr>\n",
              "    <tr>\n",
              "      <th>4</th>\n",
              "      <td>Minnie</td>\n",
              "      <td>F</td>\n",
              "      <td>1746</td>\n",
              "      <td>1880</td>\n",
              "      <td>0.019188</td>\n",
              "    </tr>\n",
              "    <tr>\n",
              "      <th>...</th>\n",
              "      <td>...</td>\n",
              "      <td>...</td>\n",
              "      <td>...</td>\n",
              "      <td>...</td>\n",
              "      <td>...</td>\n",
              "    </tr>\n",
              "    <tr>\n",
              "      <th>1957041</th>\n",
              "      <td>Zylas</td>\n",
              "      <td>M</td>\n",
              "      <td>5</td>\n",
              "      <td>2018</td>\n",
              "      <td>0.000003</td>\n",
              "    </tr>\n",
              "    <tr>\n",
              "      <th>1957042</th>\n",
              "      <td>Zyran</td>\n",
              "      <td>M</td>\n",
              "      <td>5</td>\n",
              "      <td>2018</td>\n",
              "      <td>0.000003</td>\n",
              "    </tr>\n",
              "    <tr>\n",
              "      <th>1957043</th>\n",
              "      <td>Zyrie</td>\n",
              "      <td>M</td>\n",
              "      <td>5</td>\n",
              "      <td>2018</td>\n",
              "      <td>0.000003</td>\n",
              "    </tr>\n",
              "    <tr>\n",
              "      <th>1957044</th>\n",
              "      <td>Zyron</td>\n",
              "      <td>M</td>\n",
              "      <td>5</td>\n",
              "      <td>2018</td>\n",
              "      <td>0.000003</td>\n",
              "    </tr>\n",
              "    <tr>\n",
              "      <th>1957045</th>\n",
              "      <td>Zzyzx</td>\n",
              "      <td>M</td>\n",
              "      <td>5</td>\n",
              "      <td>2018</td>\n",
              "      <td>0.000003</td>\n",
              "    </tr>\n",
              "  </tbody>\n",
              "</table>\n",
              "<p>1957046 rows × 5 columns</p>\n",
              "</div>"
            ],
            "text/plain": [
              "              name sex  births  year      prop\n",
              "0             Mary   F    7065  1880  0.077642\n",
              "1             Anna   F    2604  1880  0.028617\n",
              "2             Emma   F    2003  1880  0.022012\n",
              "3        Elizabeth   F    1939  1880  0.021309\n",
              "4           Minnie   F    1746  1880  0.019188\n",
              "...            ...  ..     ...   ...       ...\n",
              "1957041      Zylas   M       5  2018  0.000003\n",
              "1957042      Zyran   M       5  2018  0.000003\n",
              "1957043      Zyrie   M       5  2018  0.000003\n",
              "1957044      Zyron   M       5  2018  0.000003\n",
              "1957045      Zzyzx   M       5  2018  0.000003\n",
              "\n",
              "[1957046 rows x 5 columns]"
            ]
          },
          "metadata": {
            "tags": []
          },
          "execution_count": 57
        }
      ]
    },
    {
      "cell_type": "code",
      "metadata": {
        "id": "A-Q2UnzXsFhr",
        "colab_type": "code",
        "outputId": "31008a8a-4e1a-4bb2-ab02-bd6849719faf",
        "colab": {
          "base_uri": "https://localhost:8080/",
          "height": 238
        }
      },
      "source": [
        "# Sanity check (all percentages should add up to 1, i.e., 100%)\n",
        "names.groupby(['year', 'sex']).prop.sum()"
      ],
      "execution_count": 58,
      "outputs": [
        {
          "output_type": "execute_result",
          "data": {
            "text/plain": [
              "year  sex\n",
              "1880  F      1.0\n",
              "      M      1.0\n",
              "1881  F      1.0\n",
              "      M      1.0\n",
              "1882  F      1.0\n",
              "            ... \n",
              "2016  M      1.0\n",
              "2017  F      1.0\n",
              "      M      1.0\n",
              "2018  F      1.0\n",
              "      M      1.0\n",
              "Name: prop, Length: 278, dtype: float64"
            ]
          },
          "metadata": {
            "tags": []
          },
          "execution_count": 58
        }
      ]
    },
    {
      "cell_type": "code",
      "metadata": {
        "id": "G3UzjbUvsFhv",
        "colab_type": "code",
        "colab": {}
      },
      "source": [
        "def get_top1000(group):\n",
        "    return group.sort_values(by='births', ascending=False)[:1000]\n",
        "grouped = names.groupby(['year', 'sex'])\n",
        "top1000 = grouped.apply(get_top1000)\n",
        "# Drop the group index, not needed\n",
        "top1000.reset_index(inplace=True, drop=True)"
      ],
      "execution_count": 0,
      "outputs": []
    },
    {
      "cell_type": "code",
      "metadata": {
        "id": "izcGdhySsFhx",
        "colab_type": "code",
        "outputId": "45d16a00-2cd2-4cd4-cbe1-956c015c65ad",
        "colab": {
          "base_uri": "https://localhost:8080/",
          "height": 419
        }
      },
      "source": [
        "top1000"
      ],
      "execution_count": 60,
      "outputs": [
        {
          "output_type": "execute_result",
          "data": {
            "text/html": [
              "<div>\n",
              "<style scoped>\n",
              "    .dataframe tbody tr th:only-of-type {\n",
              "        vertical-align: middle;\n",
              "    }\n",
              "\n",
              "    .dataframe tbody tr th {\n",
              "        vertical-align: top;\n",
              "    }\n",
              "\n",
              "    .dataframe thead th {\n",
              "        text-align: right;\n",
              "    }\n",
              "</style>\n",
              "<table border=\"1\" class=\"dataframe\">\n",
              "  <thead>\n",
              "    <tr style=\"text-align: right;\">\n",
              "      <th></th>\n",
              "      <th>name</th>\n",
              "      <th>sex</th>\n",
              "      <th>births</th>\n",
              "      <th>year</th>\n",
              "      <th>prop</th>\n",
              "    </tr>\n",
              "  </thead>\n",
              "  <tbody>\n",
              "    <tr>\n",
              "      <th>0</th>\n",
              "      <td>Mary</td>\n",
              "      <td>F</td>\n",
              "      <td>7065</td>\n",
              "      <td>1880</td>\n",
              "      <td>0.077642</td>\n",
              "    </tr>\n",
              "    <tr>\n",
              "      <th>1</th>\n",
              "      <td>Anna</td>\n",
              "      <td>F</td>\n",
              "      <td>2604</td>\n",
              "      <td>1880</td>\n",
              "      <td>0.028617</td>\n",
              "    </tr>\n",
              "    <tr>\n",
              "      <th>2</th>\n",
              "      <td>Emma</td>\n",
              "      <td>F</td>\n",
              "      <td>2003</td>\n",
              "      <td>1880</td>\n",
              "      <td>0.022012</td>\n",
              "    </tr>\n",
              "    <tr>\n",
              "      <th>3</th>\n",
              "      <td>Elizabeth</td>\n",
              "      <td>F</td>\n",
              "      <td>1939</td>\n",
              "      <td>1880</td>\n",
              "      <td>0.021309</td>\n",
              "    </tr>\n",
              "    <tr>\n",
              "      <th>4</th>\n",
              "      <td>Minnie</td>\n",
              "      <td>F</td>\n",
              "      <td>1746</td>\n",
              "      <td>1880</td>\n",
              "      <td>0.019188</td>\n",
              "    </tr>\n",
              "    <tr>\n",
              "      <th>...</th>\n",
              "      <td>...</td>\n",
              "      <td>...</td>\n",
              "      <td>...</td>\n",
              "      <td>...</td>\n",
              "      <td>...</td>\n",
              "    </tr>\n",
              "    <tr>\n",
              "      <th>277872</th>\n",
              "      <td>Korbyn</td>\n",
              "      <td>M</td>\n",
              "      <td>207</td>\n",
              "      <td>2018</td>\n",
              "      <td>0.000115</td>\n",
              "    </tr>\n",
              "    <tr>\n",
              "      <th>277873</th>\n",
              "      <td>Randall</td>\n",
              "      <td>M</td>\n",
              "      <td>207</td>\n",
              "      <td>2018</td>\n",
              "      <td>0.000115</td>\n",
              "    </tr>\n",
              "    <tr>\n",
              "      <th>277874</th>\n",
              "      <td>Benton</td>\n",
              "      <td>M</td>\n",
              "      <td>206</td>\n",
              "      <td>2018</td>\n",
              "      <td>0.000114</td>\n",
              "    </tr>\n",
              "    <tr>\n",
              "      <th>277875</th>\n",
              "      <td>Coleman</td>\n",
              "      <td>M</td>\n",
              "      <td>206</td>\n",
              "      <td>2018</td>\n",
              "      <td>0.000114</td>\n",
              "    </tr>\n",
              "    <tr>\n",
              "      <th>277876</th>\n",
              "      <td>Markus</td>\n",
              "      <td>M</td>\n",
              "      <td>206</td>\n",
              "      <td>2018</td>\n",
              "      <td>0.000114</td>\n",
              "    </tr>\n",
              "  </tbody>\n",
              "</table>\n",
              "<p>277877 rows × 5 columns</p>\n",
              "</div>"
            ],
            "text/plain": [
              "             name sex  births  year      prop\n",
              "0            Mary   F    7065  1880  0.077642\n",
              "1            Anna   F    2604  1880  0.028617\n",
              "2            Emma   F    2003  1880  0.022012\n",
              "3       Elizabeth   F    1939  1880  0.021309\n",
              "4          Minnie   F    1746  1880  0.019188\n",
              "...           ...  ..     ...   ...       ...\n",
              "277872     Korbyn   M     207  2018  0.000115\n",
              "277873    Randall   M     207  2018  0.000115\n",
              "277874     Benton   M     206  2018  0.000114\n",
              "277875    Coleman   M     206  2018  0.000114\n",
              "277876     Markus   M     206  2018  0.000114\n",
              "\n",
              "[277877 rows x 5 columns]"
            ]
          },
          "metadata": {
            "tags": []
          },
          "execution_count": 60
        }
      ]
    },
    {
      "cell_type": "code",
      "metadata": {
        "id": "g0l_Ej1UsFh0",
        "colab_type": "code",
        "colab": {}
      },
      "source": [
        "boys = top1000[top1000.sex == 'M']\n",
        "girls = top1000[top1000.sex == 'F']"
      ],
      "execution_count": 0,
      "outputs": []
    },
    {
      "cell_type": "code",
      "metadata": {
        "id": "he5jK6hKsFh4",
        "colab_type": "code",
        "colab": {}
      },
      "source": [
        "total_births = top1000.pivot_table('births', index='year',\n",
        "                                   columns='name',\n",
        "                                   aggfunc=sum)"
      ],
      "execution_count": 0,
      "outputs": []
    },
    {
      "cell_type": "code",
      "metadata": {
        "id": "huD_FIZhsFh6",
        "colab_type": "code",
        "outputId": "abcc41e7-13e1-436e-8e5a-d07942309f18",
        "colab": {
          "base_uri": "https://localhost:8080/",
          "height": 102
        }
      },
      "source": [
        "total_births.info()"
      ],
      "execution_count": 63,
      "outputs": [
        {
          "output_type": "stream",
          "text": [
            "<class 'pandas.core.frame.DataFrame'>\n",
            "Int64Index: 139 entries, 1880 to 2018\n",
            "Columns: 7174 entries, Aaden to Zyaire\n",
            "dtypes: float64(7174)\n",
            "memory usage: 7.6 MB\n"
          ],
          "name": "stdout"
        }
      ]
    },
    {
      "cell_type": "code",
      "metadata": {
        "id": "bDogqH6YsFh9",
        "colab_type": "code",
        "outputId": "e6b97574-1c6f-43e7-eff7-f0a35f40cf18",
        "colab": {
          "base_uri": "https://localhost:8080/",
          "height": 720
        }
      },
      "source": [
        "subset = total_births[['John', 'Noah', 'Madison', 'Lorraine']]\n",
        "subset.plot(subplots=True, figsize=(12, 10), grid=False,\n",
        "            title=\"Number of births per year\")"
      ],
      "execution_count": 64,
      "outputs": [
        {
          "output_type": "execute_result",
          "data": {
            "text/plain": [
              "array([<matplotlib.axes._subplots.AxesSubplot object at 0x7f8de2731be0>,\n",
              "       <matplotlib.axes._subplots.AxesSubplot object at 0x7f8de7f107f0>,\n",
              "       <matplotlib.axes._subplots.AxesSubplot object at 0x7f8de8148048>,\n",
              "       <matplotlib.axes._subplots.AxesSubplot object at 0x7f8de823edd8>],\n",
              "      dtype=object)"
            ]
          },
          "metadata": {
            "tags": []
          },
          "execution_count": 64
        },
        {
          "output_type": "display_data",
          "data": {
            "image/png": "[encoded data removed]",
            "text/plain": [
              "<Figure size 864x720 with 4 Axes>"
            ]
          },
          "metadata": {
            "tags": []
          }
        }
      ]
    },
    {
      "cell_type": "markdown",
      "metadata": {
        "colab_type": "text",
        "id": "H1FpPI1-sFiA"
      },
      "source": [
        "--------------\n",
        "# BONUS! (up to 25 points)\n",
        "\n",
        "Write Python code to test the hypothesis:\n",
        "\n",
        "H1: There has been an increase in naming diversity over time. \n",
        "\n",
        "Hint: Compute a metric that consists of the number of distinct names, taken in order of popularity from highest to lowest, in the top 50% of births, and plot that metric over time.\n",
        "\n",
        "Your plot should look like this:\n",
        "\n",
        "![naming_diversity.png](attachment:naming_diversity.png)"
      ]
    },
    {
      "cell_type": "markdown",
      "metadata": {
        "colab_type": "text",
        "id": "LonD1JUCsFiC"
      },
      "source": [
        "## Solution"
      ]
    },
    {
      "cell_type": "code",
      "metadata": {
        "colab_type": "code",
        "id": "IfCLnKp-OKTv",
        "colab": {}
      },
      "source": [
        "# ENTER YOUR CODE HERE\n",
        "# ...\n",
        "# ...\n",
        "# ..."
      ],
      "execution_count": 0,
      "outputs": []
    },
    {
      "cell_type": "markdown",
      "metadata": {
        "colab_type": "text",
        "id": "g29a1HNosFiH"
      },
      "source": [
        "-------------\n",
        "## Boy names that became girl names (and vice versa)\n",
        "\n",
        "Next, let's look at baby names that were more popular with one sex earlier in the sample but have switched to the opposite sex over the years. One example is the name Lesley or Leslie (or other possible, less common, spelling variations). \n",
        "\n",
        "We will do so by following these steps:\n",
        "1. Go back to the top1000 DataFrame and compute a list of names occurring in the dataset starting with “lesl”.\n",
        "2. Filter down to just those names and sum births grouped by name to see the relative frequencies.\n",
        "3. Aggregate by sex and year and normalize within year.\n",
        "4. Plot the breakdown by sex over time."
      ]
    },
    {
      "cell_type": "code",
      "metadata": {
        "id": "Z0gJdFf4sFiL",
        "colab_type": "code",
        "outputId": "dec68115-c548-49df-8d2e-81f94d739efb",
        "colab": {}
      },
      "source": [
        "all_names = pd.Series(top1000.name.unique())\n",
        "lesley_like = all_names[all_names.str.lower().str.contains('lesl')]\n",
        "lesley_like"
      ],
      "execution_count": 0,
      "outputs": [
        {
          "output_type": "execute_result",
          "data": {
            "text/plain": [
              "632     Leslie\n",
              "2294    Lesley\n",
              "4264    Leslee\n",
              "4732     Lesli\n",
              "6108     Lesly\n",
              "dtype: object"
            ]
          },
          "metadata": {
            "tags": []
          },
          "execution_count": 31
        }
      ]
    },
    {
      "cell_type": "code",
      "metadata": {
        "id": "XK0Px0jxsFiT",
        "colab_type": "code",
        "outputId": "0b910586-3c95-44fd-a932-c766ea8199f1",
        "colab": {}
      },
      "source": [
        "filtered = top1000[top1000.name.isin(lesley_like)]\n",
        "filtered.groupby('name').births.sum()"
      ],
      "execution_count": 0,
      "outputs": [
        {
          "output_type": "execute_result",
          "data": {
            "text/plain": [
              "name\n",
              "Leslee       993\n",
              "Lesley     35033\n",
              "Lesli        929\n",
              "Leslie    378168\n",
              "Lesly      11433\n",
              "Name: births, dtype: int64"
            ]
          },
          "metadata": {
            "tags": []
          },
          "execution_count": 32
        }
      ]
    },
    {
      "cell_type": "code",
      "metadata": {
        "id": "fIxCLiUBsFiX",
        "colab_type": "code",
        "colab": {}
      },
      "source": [
        "table = filtered.pivot_table('births', index='year',\n",
        "                             columns='sex', aggfunc='sum')\n",
        "table = table.div(table.sum(1), axis=0)"
      ],
      "execution_count": 0,
      "outputs": []
    },
    {
      "cell_type": "code",
      "metadata": {
        "id": "GRl87cCwsFid",
        "colab_type": "code",
        "outputId": "733c7dce-a425-46cf-8ee4-2420bd2e5bce",
        "colab": {}
      },
      "source": [
        "fig = plt.figure()\n",
        "table.plot(style={'M': 'b-', 'F': 'r--'})"
      ],
      "execution_count": 0,
      "outputs": [
        {
          "output_type": "execute_result",
          "data": {
            "text/plain": [
              "<matplotlib.axes._subplots.AxesSubplot at 0x1a1f2b38d0>"
            ]
          },
          "metadata": {
            "tags": []
          },
          "execution_count": 34
        },
        {
          "output_type": "display_data",
          "data": {
            "text/plain": [
              "<Figure size 432x288 with 0 Axes>"
            ]
          },
          "metadata": {
            "tags": []
          }
        },
        {
          "output_type": "display_data",
          "data": {
            "image/png": "[encoded data removed]",
            "text/plain": [
              "<Figure size 432x288 with 1 Axes>"
            ]
          },
          "metadata": {
            "tags": [],
            "needs_background": "light"
          }
        }
      ]
    },
    {
      "cell_type": "markdown",
      "metadata": {
        "colab_type": "text",
        "id": "KsQUHbQXOKTt"
      },
      "source": [
        "---------------------\n",
        "\n",
        "Now it's time for you to come up with a different hypotheses, which we will call H2. **Be creative!**\n",
        "\n",
        "Example: The name 'Reese' has been more prevalent among baby girls than baby boys since 2000."
      ]
    },
    {
      "cell_type": "markdown",
      "metadata": {
        "colab_type": "text",
        "id": "IDUa4m4hOKTu"
      },
      "source": [
        "## Your turn! (28 points)\n",
        "\n",
        "Write Python code to test hypothesis H2 (and some text to explain whether it was confirmed or not)."
      ]
    },
    {
      "cell_type": "markdown",
      "metadata": {
        "colab_type": "text",
        "id": "X2zRCH0R7bG1"
      },
      "source": [
        "## Solution"
      ]
    },
    {
      "cell_type": "code",
      "metadata": {
        "colab_type": "code",
        "id": "JT0v19h6sFik",
        "colab": {
          "base_uri": "https://localhost:8080/",
          "height": 334
        },
        "outputId": "b42edba4-e74f-4110-cb85-7dad3b0f8afb"
      },
      "source": [
        "print(\"H2: The name 'Riley' is more common among baby girls than baby boys since 2000.\")\n",
        "      \n",
        "all_names = pd.Series(top1000.name.unique())\n",
        "lesley_like = all_names[all_names.str.lower().str.contains('riley')]\n",
        "      \n",
        "filtered = top1000[top1000.name.isin(lesley_like)]\n",
        "filtered.groupby('name').births.sum()\n",
        "\n",
        "table = filtered.pivot_table('births', index='year',\n",
        " columns='sex', aggfunc='sum')\n",
        "table = table.div(table.sum(1), axis=0)\n",
        "\n",
        "fig = plt.figure()\n",
        "table.plot(style={'M': 'b-', 'F': 'r--'})\n",
        "\n",
        "print(\"The hypothesis is true, The name 'Riley' is more common among baby girls than baby boys since 2000.\")\n"
      ],
      "execution_count": 67,
      "outputs": [
        {
          "output_type": "stream",
          "text": [
            "H2: The name 'Riley' is more common among baby girls than baby boys since 2000.\n",
            "The hypothesis is true, The name 'Riley' is more common among baby girls than baby boys since 2000.\n"
          ],
          "name": "stdout"
        },
        {
          "output_type": "display_data",
          "data": {
            "text/plain": [
              "<Figure size 432x288 with 0 Axes>"
            ]
          },
          "metadata": {
            "tags": []
          }
        },
        {
          "output_type": "display_data",
          "data": {
            "image/png": "[encoded data removed]",
            "text/plain": [
              "<Figure size 432x288 with 1 Axes>"
            ]
          },
          "metadata": {
            "tags": []
          }
        }
      ]
    },
    {
      "cell_type": "markdown",
      "metadata": {
        "colab_type": "text",
        "id": "GLi0m9uuKkpD"
      },
      "source": [
        "## Conclusions (25 points)\n",
        "\n",
        "Write your conclusions and make sure to address the issues below:\n",
        "- What have you learned from this assignment?\n",
        "- Which parts were the most fun, time-consuming, enlightening, tedious?\n",
        "- What would you do if you had an additional week to work on this?"
      ]
    },
    {
      "cell_type": "markdown",
      "metadata": {
        "colab_type": "text",
        "id": "tmRWLHo5K99F"
      },
      "source": [
        "## Solution"
      ]
    },
    {
      "cell_type": "markdown",
      "metadata": {
        "colab_type": "text",
        "id": "ug_U9rd3K99G"
      },
      "source": [
        "For this assignment, I learned much more about manipulating data and creating Matplotlib graphs and new tables. Using NumPy and Pandas, I was able to read from large datasets and make assumptions based on the data. Making the graphs and manipulating the data was the best part of the assignment. The most challenging question 17 in part 2. I couldn't get the statments to display the data correctly, and if I had an extra week, I would have worked on getting that to work. "
      ]
    }
  ]
}